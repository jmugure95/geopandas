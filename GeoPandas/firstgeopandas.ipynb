{
 "cells": [
  {
   "cell_type": "code",
   "execution_count": 5,
   "metadata": {},
   "outputs": [],
   "source": [
    "import geopandas as gpd\n",
    "import matplotlib "
   ]
  },
  {
   "cell_type": "code",
   "execution_count": 6,
   "metadata": {},
   "outputs": [],
   "source": [
    "data = gpd.read_file('Data/Kenya_Counties.shp')"
   ]
  },
  {
   "cell_type": "code",
   "execution_count": 7,
   "metadata": {},
   "outputs": [
    {
     "data": {
      "text/plain": [
       "Index(['UNIT_AREA', 'UNIT_PERIM', 'DISTRICT', 'COUNT', 'COUNTY_NAM', 'CODE',\n",
       "       'geometry'],\n",
       "      dtype='object')"
      ]
     },
     "execution_count": 7,
     "metadata": {},
     "output_type": "execute_result"
    }
   ],
   "source": [
    "data.columns"
   ]
  },
  {
   "cell_type": "code",
   "execution_count": 11,
   "metadata": {},
   "outputs": [
    {
     "data": {
      "text/html": [
       "<div>\n",
       "<style scoped>\n",
       "    .dataframe tbody tr th:only-of-type {\n",
       "        vertical-align: middle;\n",
       "    }\n",
       "\n",
       "    .dataframe tbody tr th {\n",
       "        vertical-align: top;\n",
       "    }\n",
       "\n",
       "    .dataframe thead th {\n",
       "        text-align: right;\n",
       "    }\n",
       "</style>\n",
       "<table border=\"1\" class=\"dataframe\">\n",
       "  <thead>\n",
       "    <tr style=\"text-align: right;\">\n",
       "      <th></th>\n",
       "      <th>UNIT_AREA</th>\n",
       "      <th>UNIT_PERIM</th>\n",
       "      <th>DISTRICT</th>\n",
       "      <th>COUNT</th>\n",
       "      <th>COUNTY_NAM</th>\n",
       "      <th>CODE</th>\n",
       "      <th>geometry</th>\n",
       "    </tr>\n",
       "  </thead>\n",
       "  <tbody>\n",
       "    <tr>\n",
       "      <th>0</th>\n",
       "      <td>0.696210</td>\n",
       "      <td>5.468653</td>\n",
       "      <td>Baringo</td>\n",
       "      <td>172.0</td>\n",
       "      <td>Baringo</td>\n",
       "      <td>30</td>\n",
       "      <td>POLYGON ((35.78357696533214 1.655492663383484,...</td>\n",
       "    </tr>\n",
       "    <tr>\n",
       "      <th>1</th>\n",
       "      <td>0.110070</td>\n",
       "      <td>2.030379</td>\n",
       "      <td>Bomet</td>\n",
       "      <td>109.0</td>\n",
       "      <td>Bomet</td>\n",
       "      <td>36</td>\n",
       "      <td>POLYGON ((35.47388458251953 -0.399239212274494...</td>\n",
       "    </tr>\n",
       "    <tr>\n",
       "      <th>2</th>\n",
       "      <td>0.161656</td>\n",
       "      <td>1.858956</td>\n",
       "      <td>Siaya</td>\n",
       "      <td>49.0</td>\n",
       "      <td>Siaya</td>\n",
       "      <td>41</td>\n",
       "      <td>POLYGON ((34.26518630981451 0.3080291152000427...</td>\n",
       "    </tr>\n",
       "    <tr>\n",
       "      <th>3</th>\n",
       "      <td>0.167501</td>\n",
       "      <td>2.892534</td>\n",
       "      <td>Bungoma</td>\n",
       "      <td>108.0</td>\n",
       "      <td>Bungoma</td>\n",
       "      <td>39</td>\n",
       "      <td>POLYGON ((34.61786651611328 1.104353666305542,...</td>\n",
       "    </tr>\n",
       "    <tr>\n",
       "      <th>4</th>\n",
       "      <td>0.106271</td>\n",
       "      <td>2.197821</td>\n",
       "      <td>Kericho</td>\n",
       "      <td>106.0</td>\n",
       "      <td>Kericho</td>\n",
       "      <td>35</td>\n",
       "      <td>POLYGON ((35.47383880615246 -0.399139255285263...</td>\n",
       "    </tr>\n",
       "  </tbody>\n",
       "</table>\n",
       "</div>"
      ],
      "text/plain": [
       "   UNIT_AREA  UNIT_PERIM DISTRICT  COUNT COUNTY_NAM  CODE  \\\n",
       "0   0.696210    5.468653  Baringo  172.0    Baringo    30   \n",
       "1   0.110070    2.030379    Bomet  109.0      Bomet    36   \n",
       "2   0.161656    1.858956    Siaya   49.0      Siaya    41   \n",
       "3   0.167501    2.892534  Bungoma  108.0    Bungoma    39   \n",
       "4   0.106271    2.197821  Kericho  106.0    Kericho    35   \n",
       "\n",
       "                                            geometry  \n",
       "0  POLYGON ((35.78357696533214 1.655492663383484,...  \n",
       "1  POLYGON ((35.47388458251953 -0.399239212274494...  \n",
       "2  POLYGON ((34.26518630981451 0.3080291152000427...  \n",
       "3  POLYGON ((34.61786651611328 1.104353666305542,...  \n",
       "4  POLYGON ((35.47383880615246 -0.399139255285263...  "
      ]
     },
     "execution_count": 11,
     "metadata": {},
     "output_type": "execute_result"
    }
   ],
   "source": [
    "data.head()"
   ]
  },
  {
   "cell_type": "code",
   "execution_count": 13,
   "metadata": {},
   "outputs": [
    {
     "data": {
      "text/plain": [
       "<matplotlib.axes._subplots.AxesSubplot at 0x7f86c0289c88>"
      ]
     },
     "execution_count": 13,
     "metadata": {},
     "output_type": "execute_result"
    },
    {
     "data": {
      "image/png": "[encoded data removed]",
      "text/plain": [
       "<Figure size 432x288 with 1 Axes>"
      ]
     },
     "metadata": {},
     "output_type": "display_data"
    }
   ],
   "source": [
    "data.plot()"
   ]
  },
  {
   "cell_type": "code",
   "execution_count": 19,
   "metadata": {},
   "outputs": [
    {
     "data": {
      "text/plain": [
       "<matplotlib.axes._subplots.AxesSubplot at 0x7f86c022f400>"
      ]
     },
     "execution_count": 19,
     "metadata": {},
     "output_type": "execute_result"
    },
    {
     "data": {
      "image/png": "[encoded data removed]",
      "text/plain": [
       "<Figure size 432x288 with 1 Axes>"
      ]
     },
     "metadata": {},
     "output_type": "display_data"
    }
   ],
   "source": [
    "data1=gpd.GeoSeries(data.centroid)\n",
    "data1.plot()"
   ]
  },
  {
   "cell_type": "code",
   "execution_count": 22,
   "metadata": {},
   "outputs": [
    {
     "data": {
      "text/plain": [
       "'geometry'"
      ]
     },
     "execution_count": 22,
     "metadata": {},
     "output_type": "execute_result"
    }
   ],
   "source": [
    "data.geometry.name"
   ]
  },
  {
   "cell_type": "code",
   "execution_count": 23,
   "metadata": {},
   "outputs": [
    {
     "data": {
      "text/html": [
       "<div>\n",
       "<style scoped>\n",
       "    .dataframe tbody tr th:only-of-type {\n",
       "        vertical-align: middle;\n",
       "    }\n",
       "\n",
       "    .dataframe tbody tr th {\n",
       "        vertical-align: top;\n",
       "    }\n",
       "\n",
       "    .dataframe thead th {\n",
       "        text-align: right;\n",
       "    }\n",
       "</style>\n",
       "<table border=\"1\" class=\"dataframe\">\n",
       "  <thead>\n",
       "    <tr style=\"text-align: right;\">\n",
       "      <th></th>\n",
       "      <th>UNIT_AREA</th>\n",
       "      <th>UNIT_PERIM</th>\n",
       "      <th>DISTRICT</th>\n",
       "      <th>COUNT</th>\n",
       "      <th>COUNTY_NAM</th>\n",
       "      <th>CODE</th>\n",
       "      <th>geometry</th>\n",
       "    </tr>\n",
       "  </thead>\n",
       "  <tbody>\n",
       "    <tr>\n",
       "      <th>0</th>\n",
       "      <td>0.696210</td>\n",
       "      <td>5.468653</td>\n",
       "      <td>Baringo</td>\n",
       "      <td>172.0</td>\n",
       "      <td>Baringo</td>\n",
       "      <td>30</td>\n",
       "      <td>POLYGON ((35.78357696533214 1.655492663383484,...</td>\n",
       "    </tr>\n",
       "    <tr>\n",
       "      <th>1</th>\n",
       "      <td>0.110070</td>\n",
       "      <td>2.030379</td>\n",
       "      <td>Bomet</td>\n",
       "      <td>109.0</td>\n",
       "      <td>Bomet</td>\n",
       "      <td>36</td>\n",
       "      <td>POLYGON ((35.47388458251953 -0.399239212274494...</td>\n",
       "    </tr>\n",
       "    <tr>\n",
       "      <th>2</th>\n",
       "      <td>0.161656</td>\n",
       "      <td>1.858956</td>\n",
       "      <td>Siaya</td>\n",
       "      <td>49.0</td>\n",
       "      <td>Siaya</td>\n",
       "      <td>41</td>\n",
       "      <td>POLYGON ((34.26518630981451 0.3080291152000427...</td>\n",
       "    </tr>\n",
       "    <tr>\n",
       "      <th>3</th>\n",
       "      <td>0.167501</td>\n",
       "      <td>2.892534</td>\n",
       "      <td>Bungoma</td>\n",
       "      <td>108.0</td>\n",
       "      <td>Bungoma</td>\n",
       "      <td>39</td>\n",
       "      <td>POLYGON ((34.61786651611328 1.104353666305542,...</td>\n",
       "    </tr>\n",
       "    <tr>\n",
       "      <th>4</th>\n",
       "      <td>0.106271</td>\n",
       "      <td>2.197821</td>\n",
       "      <td>Kericho</td>\n",
       "      <td>106.0</td>\n",
       "      <td>Kericho</td>\n",
       "      <td>35</td>\n",
       "      <td>POLYGON ((35.47383880615246 -0.399139255285263...</td>\n",
       "    </tr>\n",
       "  </tbody>\n",
       "</table>\n",
       "</div>"
      ],
      "text/plain": [
       "   UNIT_AREA  UNIT_PERIM DISTRICT  COUNT COUNTY_NAM  CODE  \\\n",
       "0   0.696210    5.468653  Baringo  172.0    Baringo    30   \n",
       "1   0.110070    2.030379    Bomet  109.0      Bomet    36   \n",
       "2   0.161656    1.858956    Siaya   49.0      Siaya    41   \n",
       "3   0.167501    2.892534  Bungoma  108.0    Bungoma    39   \n",
       "4   0.106271    2.197821  Kericho  106.0    Kericho    35   \n",
       "\n",
       "                                            geometry  \n",
       "0  POLYGON ((35.78357696533214 1.655492663383484,...  \n",
       "1  POLYGON ((35.47388458251953 -0.399239212274494...  \n",
       "2  POLYGON ((34.26518630981451 0.3080291152000427...  \n",
       "3  POLYGON ((34.61786651611328 1.104353666305542,...  \n",
       "4  POLYGON ((35.47383880615246 -0.399139255285263...  "
      ]
     },
     "execution_count": 23,
     "metadata": {},
     "output_type": "execute_result"
    }
   ],
   "source": [
    "data.head()"
   ]
  },
  {
   "cell_type": "code",
   "execution_count": 24,
   "metadata": {},
   "outputs": [
    {
     "data": {
      "text/html": [
       "<div>\n",
       "<style scoped>\n",
       "    .dataframe tbody tr th:only-of-type {\n",
       "        vertical-align: middle;\n",
       "    }\n",
       "\n",
       "    .dataframe tbody tr th {\n",
       "        vertical-align: top;\n",
       "    }\n",
       "\n",
       "    .dataframe thead th {\n",
       "        text-align: right;\n",
       "    }\n",
       "</style>\n",
       "<table border=\"1\" class=\"dataframe\">\n",
       "  <thead>\n",
       "    <tr style=\"text-align: right;\">\n",
       "      <th></th>\n",
       "      <th>UNIT_AREA</th>\n",
       "      <th>UNIT_PERIM</th>\n",
       "      <th>DISTRICT</th>\n",
       "      <th>COUNT</th>\n",
       "      <th>COUNTY_NAM</th>\n",
       "      <th>CODE</th>\n",
       "      <th>geometry</th>\n",
       "      <th>centers</th>\n",
       "    </tr>\n",
       "  </thead>\n",
       "  <tbody>\n",
       "    <tr>\n",
       "      <th>0</th>\n",
       "      <td>0.696210</td>\n",
       "      <td>5.468653</td>\n",
       "      <td>Baringo</td>\n",
       "      <td>172.0</td>\n",
       "      <td>Baringo</td>\n",
       "      <td>30</td>\n",
       "      <td>POLYGON ((35.78357696533214 1.655492663383484,...</td>\n",
       "      <td>POINT (35.94577975042981 0.6715678232344798)</td>\n",
       "    </tr>\n",
       "    <tr>\n",
       "      <th>1</th>\n",
       "      <td>0.110070</td>\n",
       "      <td>2.030379</td>\n",
       "      <td>Bomet</td>\n",
       "      <td>109.0</td>\n",
       "      <td>Bomet</td>\n",
       "      <td>36</td>\n",
       "      <td>POLYGON ((35.47388458251953 -0.399239212274494...</td>\n",
       "      <td>POINT (35.29758207649637 -0.7234494563747326)</td>\n",
       "    </tr>\n",
       "    <tr>\n",
       "      <th>2</th>\n",
       "      <td>0.161656</td>\n",
       "      <td>1.858956</td>\n",
       "      <td>Siaya</td>\n",
       "      <td>49.0</td>\n",
       "      <td>Siaya</td>\n",
       "      <td>41</td>\n",
       "      <td>POLYGON ((34.26518630981451 0.3080291152000427...</td>\n",
       "      <td>POINT (34.2471266905637 -0.05952302421395549)</td>\n",
       "    </tr>\n",
       "    <tr>\n",
       "      <th>3</th>\n",
       "      <td>0.167501</td>\n",
       "      <td>2.892534</td>\n",
       "      <td>Bungoma</td>\n",
       "      <td>108.0</td>\n",
       "      <td>Bungoma</td>\n",
       "      <td>39</td>\n",
       "      <td>POLYGON ((34.61786651611328 1.104353666305542,...</td>\n",
       "      <td>POINT (34.63964934282072 0.7518002616826731)</td>\n",
       "    </tr>\n",
       "    <tr>\n",
       "      <th>4</th>\n",
       "      <td>0.106271</td>\n",
       "      <td>2.197821</td>\n",
       "      <td>Kericho</td>\n",
       "      <td>106.0</td>\n",
       "      <td>Kericho</td>\n",
       "      <td>35</td>\n",
       "      <td>POLYGON ((35.47383880615246 -0.399139255285263...</td>\n",
       "      <td>POINT (35.31363878577612 -0.292527276525255)</td>\n",
       "    </tr>\n",
       "  </tbody>\n",
       "</table>\n",
       "</div>"
      ],
      "text/plain": [
       "   UNIT_AREA  UNIT_PERIM DISTRICT  COUNT COUNTY_NAM  CODE  \\\n",
       "0   0.696210    5.468653  Baringo  172.0    Baringo    30   \n",
       "1   0.110070    2.030379    Bomet  109.0      Bomet    36   \n",
       "2   0.161656    1.858956    Siaya   49.0      Siaya    41   \n",
       "3   0.167501    2.892534  Bungoma  108.0    Bungoma    39   \n",
       "4   0.106271    2.197821  Kericho  106.0    Kericho    35   \n",
       "\n",
       "                                            geometry  \\\n",
       "0  POLYGON ((35.78357696533214 1.655492663383484,...   \n",
       "1  POLYGON ((35.47388458251953 -0.399239212274494...   \n",
       "2  POLYGON ((34.26518630981451 0.3080291152000427...   \n",
       "3  POLYGON ((34.61786651611328 1.104353666305542,...   \n",
       "4  POLYGON ((35.47383880615246 -0.399139255285263...   \n",
       "\n",
       "                                         centers  \n",
       "0   POINT (35.94577975042981 0.6715678232344798)  \n",
       "1  POINT (35.29758207649637 -0.7234494563747326)  \n",
       "2  POINT (34.2471266905637 -0.05952302421395549)  \n",
       "3   POINT (34.63964934282072 0.7518002616826731)  \n",
       "4   POINT (35.31363878577612 -0.292527276525255)  "
      ]
     },
     "execution_count": 24,
     "metadata": {},
     "output_type": "execute_result"
    }
   ],
   "source": [
    "data['centers']=data.centroid\n",
    "data.head()"
   ]
  },
  {
   "cell_type": "code",
   "execution_count": 29,
   "metadata": {},
   "outputs": [
    {
     "data": {
      "text/html": [
       "<div>\n",
       "<style scoped>\n",
       "    .dataframe tbody tr th:only-of-type {\n",
       "        vertical-align: middle;\n",
       "    }\n",
       "\n",
       "    .dataframe tbody tr th {\n",
       "        vertical-align: top;\n",
       "    }\n",
       "\n",
       "    .dataframe thead th {\n",
       "        text-align: right;\n",
       "    }\n",
       "</style>\n",
       "<table border=\"1\" class=\"dataframe\">\n",
       "  <thead>\n",
       "    <tr style=\"text-align: right;\">\n",
       "      <th></th>\n",
       "      <th>UNIT_AREA</th>\n",
       "      <th>UNIT_PERIM</th>\n",
       "      <th>DISTRICT</th>\n",
       "      <th>COUNT</th>\n",
       "      <th>COUNTY_NAM</th>\n",
       "      <th>CODE</th>\n",
       "      <th>geometry</th>\n",
       "      <th>centers</th>\n",
       "      <th>Area</th>\n",
       "      <th>perimeter</th>\n",
       "    </tr>\n",
       "  </thead>\n",
       "  <tbody>\n",
       "    <tr>\n",
       "      <th>0</th>\n",
       "      <td>0.696210</td>\n",
       "      <td>5.468653</td>\n",
       "      <td>Baringo</td>\n",
       "      <td>172.0</td>\n",
       "      <td>Baringo</td>\n",
       "      <td>30</td>\n",
       "      <td>POLYGON ((35.78357696533214 1.655492663383484,...</td>\n",
       "      <td>POINT (35.94577975042981 0.6715678232344798)</td>\n",
       "      <td>0.884748</td>\n",
       "      <td>30</td>\n",
       "    </tr>\n",
       "    <tr>\n",
       "      <th>1</th>\n",
       "      <td>0.110070</td>\n",
       "      <td>2.030379</td>\n",
       "      <td>Bomet</td>\n",
       "      <td>109.0</td>\n",
       "      <td>Bomet</td>\n",
       "      <td>36</td>\n",
       "      <td>POLYGON ((35.47388458251953 -0.399239212274494...</td>\n",
       "      <td>POINT (35.29758207649637 -0.7234494563747326)</td>\n",
       "      <td>0.193246</td>\n",
       "      <td>36</td>\n",
       "    </tr>\n",
       "    <tr>\n",
       "      <th>2</th>\n",
       "      <td>0.161656</td>\n",
       "      <td>1.858956</td>\n",
       "      <td>Siaya</td>\n",
       "      <td>49.0</td>\n",
       "      <td>Siaya</td>\n",
       "      <td>41</td>\n",
       "      <td>POLYGON ((34.26518630981451 0.3080291152000427...</td>\n",
       "      <td>POINT (34.2471266905637 -0.05952302421395549)</td>\n",
       "      <td>0.286025</td>\n",
       "      <td>41</td>\n",
       "    </tr>\n",
       "    <tr>\n",
       "      <th>3</th>\n",
       "      <td>0.167501</td>\n",
       "      <td>2.892534</td>\n",
       "      <td>Bungoma</td>\n",
       "      <td>108.0</td>\n",
       "      <td>Bungoma</td>\n",
       "      <td>39</td>\n",
       "      <td>POLYGON ((34.61786651611328 1.104353666305542,...</td>\n",
       "      <td>POINT (34.63964934282072 0.7518002616826731)</td>\n",
       "      <td>0.245166</td>\n",
       "      <td>39</td>\n",
       "    </tr>\n",
       "    <tr>\n",
       "      <th>4</th>\n",
       "      <td>0.106271</td>\n",
       "      <td>2.197821</td>\n",
       "      <td>Kericho</td>\n",
       "      <td>106.0</td>\n",
       "      <td>Kericho</td>\n",
       "      <td>35</td>\n",
       "      <td>POLYGON ((35.47383880615246 -0.399139255285263...</td>\n",
       "      <td>POINT (35.31363878577612 -0.292527276525255)</td>\n",
       "      <td>0.209301</td>\n",
       "      <td>35</td>\n",
       "    </tr>\n",
       "  </tbody>\n",
       "</table>\n",
       "</div>"
      ],
      "text/plain": [
       "   UNIT_AREA  UNIT_PERIM DISTRICT  COUNT COUNTY_NAM  CODE  \\\n",
       "0   0.696210    5.468653  Baringo  172.0    Baringo    30   \n",
       "1   0.110070    2.030379    Bomet  109.0      Bomet    36   \n",
       "2   0.161656    1.858956    Siaya   49.0      Siaya    41   \n",
       "3   0.167501    2.892534  Bungoma  108.0    Bungoma    39   \n",
       "4   0.106271    2.197821  Kericho  106.0    Kericho    35   \n",
       "\n",
       "                                            geometry  \\\n",
       "0  POLYGON ((35.78357696533214 1.655492663383484,...   \n",
       "1  POLYGON ((35.47388458251953 -0.399239212274494...   \n",
       "2  POLYGON ((34.26518630981451 0.3080291152000427...   \n",
       "3  POLYGON ((34.61786651611328 1.104353666305542,...   \n",
       "4  POLYGON ((35.47383880615246 -0.399139255285263...   \n",
       "\n",
       "                                         centers      Area  perimeter  \n",
       "0   POINT (35.94577975042981 0.6715678232344798)  0.884748         30  \n",
       "1  POINT (35.29758207649637 -0.7234494563747326)  0.193246         36  \n",
       "2  POINT (34.2471266905637 -0.05952302421395549)  0.286025         41  \n",
       "3   POINT (34.63964934282072 0.7518002616826731)  0.245166         39  \n",
       "4   POINT (35.31363878577612 -0.292527276525255)  0.209301         35  "
      ]
     },
     "execution_count": 29,
     "metadata": {},
     "output_type": "execute_result"
    }
   ],
   "source": [
    "data['Area']=data.area\n",
    "data.head()"
   ]
  },
  {
   "cell_type": "code",
   "execution_count": null,
   "metadata": {},
   "outputs": [],
   "source": []
  }
 ],
 "metadata": {
  "kernelspec": {
   "display_name": "Python 3",
   "language": "python",
   "name": "python3"
  },
  "language_info": {
   "codemirror_mode": {
    "name": "ipython",
    "version": 3
   },
   "file_extension": ".py",
   "mimetype": "text/x-python",
   "name": "python",
   "nbconvert_exporter": "python",
   "pygments_lexer": "ipython3",
   "version": "3.6.5rc1"
  }
 },
 "nbformat": 4,
 "nbformat_minor": 2
}
